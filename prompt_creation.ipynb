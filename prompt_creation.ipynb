{
 "cells": [
  {
   "cell_type": "code",
   "execution_count": 1,
   "metadata": {},
   "outputs": [],
   "source": [
    "import pandas as pd"
   ]
  },
  {
   "cell_type": "code",
   "execution_count": null,
   "metadata": {},
   "outputs": [],
   "source": [
    "df = pd.read_excel('/projects/humansVsLLMs/data/Inclusion Chatbot (LeaderDemographics)_February 20, 2025_06.43.xlsx')\n",
    "df.columns"
   ]
  },
  {
   "cell_type": "code",
   "execution_count": null,
   "metadata": {},
   "outputs": [],
   "source": [
    "df = pd.read_csv('/projects/humansVsLLMs/data/data_leaders_with_demographics_semantics.csv')\n",
    "df.shape"
   ]
  },
  {
   "cell_type": "code",
   "execution_count": 13,
   "metadata": {},
   "outputs": [],
   "source": [
    "# Define the design prompt template\n",
    "\n",
    "design_prompt_template = (\n",
    "    \"You are a {Age} year old {Ethnicity} {Gender} who is a {Experience}. \"\n",
    "    \"Your task is to set a SMART goal to {InclusionCriteria}.\"\n",
    ")\n",
    "\n"
   ]
  },
  {
   "cell_type": "code",
   "execution_count": null,
   "metadata": {},
   "outputs": [],
   "source": [
    "# Generate prompts for each row\n",
    "\n",
    "df[\"Generated_Prompt_OrgEfforts\"] = df.apply(\n",
    "    lambda row: design_prompt_template.format(\n",
    "        Age=row[\"Age\"], Ethnicity=row[\"RaceEthnicity\"], Gender=row[\"GenderIdentity\"], Experience=row[\"Level\"], InclusionCriteria = 'support inclusive organizational efforts'\n",
    "    ),\n",
    "    axis=1,\n",
    ")"
   ]
  },
  {
   "cell_type": "code",
   "execution_count": 28,
   "metadata": {},
   "outputs": [],
   "source": [
    "df.to_csv('/projects/humansVsLLMs/data/data_leaders_with_demographics_semantics.csv', index=False)"
   ]
  },
  {
   "cell_type": "code",
   "execution_count": 26,
   "metadata": {},
   "outputs": [],
   "source": [
    "# Save to a new Excel file\n",
    "output_file = \"/projects/humansVsLLMs/results/sociodemographic_prompts.xlsx\"\n",
    "df.to_excel(output_file, index=False)"
   ]
  }
 ],
 "metadata": {
  "kernelspec": {
   "display_name": "emnlp",
   "language": "python",
   "name": "python3"
  },
  "language_info": {
   "codemirror_mode": {
    "name": "ipython",
    "version": 3
   },
   "file_extension": ".py",
   "mimetype": "text/x-python",
   "name": "python",
   "nbconvert_exporter": "python",
   "pygments_lexer": "ipython3",
   "version": "3.10.12"
  }
 },
 "nbformat": 4,
 "nbformat_minor": 2
}
